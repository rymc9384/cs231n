{
 "cells": [
  {
   "cell_type": "code",
   "execution_count": 1,
   "metadata": {},
   "outputs": [],
   "source": [
    "import numpy as np\n",
    "N, d1, d2, d3 = 100, 10,10,10"
   ]
  },
  {
   "cell_type": "code",
   "execution_count": 7,
   "metadata": {},
   "outputs": [],
   "source": [
    "obs = []\n",
    "for i in range(N):\n",
    "    tmp = [np.random.random(size=10) for _ in range(3)]\n",
    "    obs.append(tmp)\n",
    "\n",
    "arr = np.array(obs)"
   ]
  },
  {
   "cell_type": "code",
   "execution_count": 8,
   "metadata": {},
   "outputs": [
    {
     "data": {
      "text/plain": [
       "(100, 3, 10)"
      ]
     },
     "execution_count": 8,
     "metadata": {},
     "output_type": "execute_result"
    }
   ],
   "source": [
    "arr.shape"
   ]
  },
  {
   "cell_type": "code",
   "execution_count": 12,
   "metadata": {},
   "outputs": [],
   "source": [
    "arr = arr.reshape([N,-1])"
   ]
  },
  {
   "cell_type": "code",
   "execution_count": 13,
   "metadata": {},
   "outputs": [],
   "source": [
    "w = np.random.random(size=30)"
   ]
  },
  {
   "cell_type": "code",
   "execution_count": 14,
   "metadata": {},
   "outputs": [
    {
     "data": {
      "text/plain": [
       "array([6.08700464, 6.51607366, 7.24716051, 6.93167463, 7.29912931,\n",
       "       7.58728366, 5.78075207, 7.68077037, 7.75430875, 6.00189946,\n",
       "       7.19333632, 7.8584966 , 6.81380056, 6.3720377 , 6.05268926,\n",
       "       7.91847643, 7.50119406, 5.56131749, 7.17985807, 5.68640786,\n",
       "       7.97512452, 4.83697773, 5.98604449, 7.41362484, 6.9745078 ,\n",
       "       7.53722349, 7.41465195, 7.60222168, 6.8902588 , 5.21031556,\n",
       "       7.31523098, 6.81514732, 7.94633437, 8.38527851, 6.61424484,\n",
       "       6.24476248, 7.15775065, 7.40362489, 6.90139865, 5.99614065,\n",
       "       6.92829715, 7.17991595, 7.48434979, 7.13402092, 7.31283073,\n",
       "       6.79474106, 6.16687441, 6.68171459, 5.55938988, 7.30712419,\n",
       "       6.50723607, 5.75050004, 7.4109982 , 4.8333524 , 7.85479527,\n",
       "       6.15385618, 6.99462509, 7.19226025, 6.25756189, 7.63924502,\n",
       "       7.51349793, 6.05695704, 6.71000041, 8.07787244, 7.57125504,\n",
       "       5.47217227, 7.91833017, 6.84847582, 6.98046838, 8.32881562,\n",
       "       5.22522488, 6.83466457, 7.11736563, 7.35334027, 8.52472441,\n",
       "       7.6526793 , 7.29831276, 7.65651767, 6.29961445, 6.52351851,\n",
       "       6.70773512, 6.12121678, 7.04842135, 5.27233467, 5.83052063,\n",
       "       6.79835656, 8.5352715 , 6.1549655 , 6.63191567, 5.75252672,\n",
       "       7.78291451, 6.93487748, 5.97122297, 5.88274468, 6.99267892,\n",
       "       6.92042679, 5.2793356 , 7.32811256, 6.084019  , 7.08898314])"
      ]
     },
     "execution_count": 14,
     "metadata": {},
     "output_type": "execute_result"
    }
   ],
   "source": [
    "arr.dot(w)"
   ]
  },
  {
   "cell_type": "code",
   "execution_count": 15,
   "metadata": {},
   "outputs": [
    {
     "data": {
      "text/plain": [
       "array([0.34865075, 0.75071381, 0.10062408, 0.47636841, 0.54140862,\n",
       "       0.61867498, 0.99297289, 0.39915896, 0.88495028, 0.70133809,\n",
       "       0.80159045, 0.03369207, 0.46526813, 0.92142726, 0.28264733,\n",
       "       0.12256769, 0.54341565, 0.75555315, 0.39852879, 0.04996848,\n",
       "       0.49301914, 0.06215567, 0.14127967, 0.62341531, 0.20856343,\n",
       "       0.70848203, 0.49638684, 0.66436581, 0.06106017, 0.01216427])"
      ]
     },
     "execution_count": 15,
     "metadata": {},
     "output_type": "execute_result"
    }
   ],
   "source": [
    "w"
   ]
  },
  {
   "cell_type": "code",
   "execution_count": 19,
   "metadata": {},
   "outputs": [
    {
     "data": {
      "text/plain": [
       "1.1648241945535698"
      ]
     },
     "execution_count": 19,
     "metadata": {},
     "output_type": "execute_result"
    }
   ],
   "source": [
    "np.random.normal()"
   ]
  },
  {
   "cell_type": "code",
   "execution_count": null,
   "metadata": {},
   "outputs": [],
   "source": []
  }
 ],
 "metadata": {
  "kernelspec": {
   "display_name": "Python 3",
   "language": "python",
   "name": "python3"
  },
  "language_info": {
   "codemirror_mode": {
    "name": "ipython",
    "version": 3
   },
   "file_extension": ".py",
   "mimetype": "text/x-python",
   "name": "python",
   "nbconvert_exporter": "python",
   "pygments_lexer": "ipython3",
   "version": "3.6.7"
  }
 },
 "nbformat": 4,
 "nbformat_minor": 2
}
